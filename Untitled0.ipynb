{
  "nbformat": 4,
  "nbformat_minor": 0,
  "metadata": {
    "colab": {
      "name": "Untitled0.ipynb",
      "provenance": [],
      "collapsed_sections": [],
      "authorship_tag": "ABX9TyN4P0plZMPCNkX0w/MtyHYp",
      "include_colab_link": true
    },
    "kernelspec": {
      "name": "python3",
      "display_name": "Python 3"
    },
    "language_info": {
      "name": "python"
    }
  },
  "cells": [
    {
      "cell_type": "markdown",
      "metadata": {
        "id": "view-in-github",
        "colab_type": "text"
      },
      "source": [
        "<a href=\"https://colab.research.google.com/github/joonsung-composerk20/-/blob/main/Untitled0.ipynb\" target=\"_parent\"><img src=\"https://colab.research.google.com/assets/colab-badge.svg\" alt=\"Open In Colab\"/></a>"
      ]
    },
    {
      "cell_type": "code",
      "metadata": {
        "id": "Y2a383M397UI",
        "colab": {
          "base_uri": "https://localhost:8080/"
        },
        "outputId": "810127c0-67fb-4be1-b47a-6da0f97e1127"
      },
      "source": [
        "import cmath\n",
        "\n",
        "a= int(input(\"a의 값:  \"))\n",
        "b= int(input(\"b의 값:  \"))\n",
        "c= int(input(\"c의 값:  \"))\n",
        "\n",
        "x1 = ((-b+cmath.sqrt((b**2)-(4*a*c)))/(2*a))\n",
        "x2 = ((-b-cmath.sqrt((b**2)-(4*a*c)))/(2*a))\n",
        "\n",
        "print(\"한근: \", x1)\n",
        "print(\"다른 한근: \", x2)"
      ],
      "execution_count": 32,
      "outputs": [
        {
          "output_type": "stream",
          "text": [
            "a의 값:  1\n",
            "b의 값:  -6\n",
            "c의 값:  9\n",
            "한근:  (3+0j)\n",
            "다른 한근:  (3+0j)\n"
          ],
          "name": "stdout"
        }
      ]
    }
  ]
}